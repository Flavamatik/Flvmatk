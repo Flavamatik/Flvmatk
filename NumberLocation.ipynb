{
 "cells": [
  {
   "cell_type": "code",
   "execution_count": 28,
   "id": "147df7ab-b843-4da2-8eb4-f2e25df18538",
   "metadata": {},
   "outputs": [
    {
     "name": "stdout",
     "output_type": "stream",
     "text": [
      "Ghana\n",
      "Airtel\n",
      "8.0300284 -1.0800271\n"
     ]
    }
   ],
   "source": [
    "#location of number\n",
    "import phonenumbers\n",
    "from phonenumbers import geocoder\n",
    "Key = '1c0b1b3e6b7f461198a05f034520c221'\n",
    "\n",
    "kofiNumber = phonenumbers.parse(\"+233267195829\")\n",
    "the_location = geocoder.description_for_number(kofiNumber, 'en')\n",
    "print(the_location)\n",
    "\n",
    "#Service Provider\n",
    "from phonenumbers import carrier\n",
    "network = phonenumbers.parse(\"+233267195829\")\n",
    "print(carrier.name_for_number(network,'en'))\n",
    "\n",
    "#Mapping Number\n",
    "from opencage.geocoder import OpenCageGeocode\n",
    "geocoder = OpenCageGeocode(Key)\n",
    "query = str(the_location)\n",
    "result = geocoder.geocode(query)\n",
    "\n",
    "\n",
    "lat = result[0]['geometry']['lat']\n",
    "lng = result[0]['geometry']['lng']\n",
    "print(lat, lng)"
   ]
  },
  {
   "cell_type": "code",
   "execution_count": null,
   "id": "21bc8b6a-5210-41c3-ad00-eddfc301af21",
   "metadata": {},
   "outputs": [],
   "source": []
  },
  {
   "cell_type": "code",
   "execution_count": null,
   "id": "f56594f9-3fdb-428e-bfa7-9f356b8b520d",
   "metadata": {},
   "outputs": [],
   "source": []
  }
 ],
 "metadata": {
  "kernelspec": {
   "display_name": "Python 3",
   "language": "python",
   "name": "python3"
  },
  "language_info": {
   "codemirror_mode": {
    "name": "ipython",
    "version": 3
   },
   "file_extension": ".py",
   "mimetype": "text/x-python",
   "name": "python",
   "nbconvert_exporter": "python",
   "pygments_lexer": "ipython3",
   "version": "3.8.8"
  }
 },
 "nbformat": 4,
 "nbformat_minor": 5
}
